{
 "cells": [
  {
   "cell_type": "markdown",
   "metadata": {},
   "source": [
    "# AD Hoc Algorithm\n",
    "* Idea is more needed rather than knowledge\n",
    "\n",
    "# Agenda\n",
    "* Anagram\n",
    "* Finding 2 values to make given sum from the 2 ordered array\n",
    "* Finding kth value from the merge of the 2 ordered array\n",
    "* GAP problem (APIO 2016)\n",
    "* Running (KOI 2013)\n",
    "* Finding cycle from linked list\n",
    "* Finding unique value\n",
    "* Bit Manipulation \n",
    "* Finding Max subarray\n",
    "* Game (IOI 2014)"
   ]
  },
  {
   "cell_type": "markdown",
   "metadata": {},
   "source": [
    "## Finding anagram\n",
    "### anagram : two words having same letters ( ex : anagram/managra, flow/wolf, nameless/salesman)\n",
    "### Question\n",
    "N words are given<br>\n",
    "Total length of all world is W<br>\n",
    "Q1. Is there any anagram pair?<br>\n",
    "Q2. How many anagram are there?<br>"
   ]
  },
  {
   "cell_type": "code",
   "execution_count": 1,
   "metadata": {},
   "outputs": [],
   "source": [
    "words = [\"flow\", \"anagram\", \"wolf\", \"nameless\", \"manager\", \"elsemans\"]"
   ]
  },
  {
   "cell_type": "markdown",
   "metadata": {},
   "source": [
    "For Q1, Let's check if two words are anagram or not."
   ]
  },
  {
   "cell_type": "code",
   "execution_count": 21,
   "metadata": {},
   "outputs": [],
   "source": [
    "def get_letter_counting_array(word):\n",
    "    result = [0] * 26\n",
    "        \n",
    "    for letter in word:\n",
    "        result[ord(letter)-97] += 1\n",
    "        \n",
    "    return result"
   ]
  },
  {
   "cell_type": "code",
   "execution_count": 25,
   "metadata": {},
   "outputs": [],
   "source": [
    "def areSame(list1, list2):\n",
    "    for count in range(26):\n",
    "        if list1[count] != list2[count]:\n",
    "            return False\n",
    "    return True"
   ]
  },
  {
   "cell_type": "code",
   "execution_count": 26,
   "metadata": {},
   "outputs": [],
   "source": [
    "def isAnagram(word1, word2):\n",
    "    list1 = get_letter_counting_array(word1)\n",
    "    list2 = get_letter_counting_array(word2)\n",
    "    return areSame(list1, list2)"
   ]
  },
  {
   "cell_type": "code",
   "execution_count": 29,
   "metadata": {},
   "outputs": [
    {
     "data": {
      "text/plain": [
       "False"
      ]
     },
     "execution_count": 29,
     "metadata": {},
     "output_type": "execute_result"
    }
   ],
   "source": [
    "isAnagram(\"asd\", \"asc\")"
   ]
  },
  {
   "cell_type": "code",
   "execution_count": 30,
   "metadata": {},
   "outputs": [
    {
     "data": {
      "text/plain": [
       "True"
      ]
     },
     "execution_count": 30,
     "metadata": {},
     "output_type": "execute_result"
    }
   ],
   "source": [
    "isAnagram(\"flow\", \"wolf\")"
   ]
  },
  {
   "cell_type": "code",
   "execution_count": 41,
   "metadata": {},
   "outputs": [
    {
     "name": "stdout",
     "output_type": "stream",
     "text": [
      "0 flow 1 anagram False\n",
      "0 flow 2 wolf True\n",
      "0 flow 3 nameless False\n",
      "0 flow 4 manager False\n",
      "0 flow 5 elsemans False\n",
      "1 anagram 2 wolf False\n",
      "1 anagram 3 nameless False\n",
      "1 anagram 4 manager False\n",
      "1 anagram 5 elsemans False\n",
      "2 wolf 3 nameless False\n",
      "2 wolf 4 manager False\n",
      "2 wolf 5 elsemans False\n",
      "3 nameless 4 manager False\n",
      "3 nameless 5 elsemans True\n",
      "4 manager 5 elsemans False\n"
     ]
    }
   ],
   "source": [
    "for idx1 in range(len(words)):\n",
    "    for idx2 in range(idx1 + 1, len(words)):\n",
    "        print(idx1, words[idx1], idx2, words[idx2], isAnagram(words[idx1], words[idx2]))"
   ]
  }
 ],
 "metadata": {
  "kernelspec": {
   "display_name": "Python 3",
   "language": "python",
   "name": "python3"
  },
  "language_info": {
   "codemirror_mode": {
    "name": "ipython",
    "version": 3
   },
   "file_extension": ".py",
   "mimetype": "text/x-python",
   "name": "python",
   "nbconvert_exporter": "python",
   "pygments_lexer": "ipython3",
   "version": "3.7.5"
  }
 },
 "nbformat": 4,
 "nbformat_minor": 4
}
